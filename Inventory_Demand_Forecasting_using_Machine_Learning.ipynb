{
  "nbformat": 4,
  "nbformat_minor": 0,
  "metadata": {
    "colab": {
      "provenance": []
    },
    "kernelspec": {
      "name": "python3",
      "display_name": "Python 3"
    },
    "language_info": {
      "name": "python"
    }
  },
  "cells": [
    {
      "cell_type": "markdown",
      "source": [
        "**Column Details:**\n",
        "- **date**: The date on which the sales transaction occurred.\n",
        "- **store**: The store identifier where the transaction took place.\n",
        "- **item**: The item identifier for the product sold.\n",
        "- **sales**: The number of units sold for the given item on the given date.\n"
      ],
      "metadata": {
        "id": "usri64Mf0-M6"
      }
    },
    {
      "cell_type": "code",
      "execution_count": null,
      "metadata": {
        "id": "O_jzj0jN0qip"
      },
      "outputs": [],
      "source": []
    }
  ]
}